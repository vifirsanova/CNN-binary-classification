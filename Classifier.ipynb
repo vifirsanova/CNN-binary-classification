{
  "nbformat": 4,
  "nbformat_minor": 0,
  "metadata": {
    "colab": {
      "name": "Classifier",
      "provenance": [],
      "collapsed_sections": []
    },
    "kernelspec": {
      "name": "python3",
      "display_name": "Python 3"
    }
  },
  "cells": [
    {
      "cell_type": "markdown",
      "metadata": {
        "id": "ODshDOGPLp-q"
      },
      "source": [
        "#Библиотеки"
      ]
    },
    {
      "cell_type": "code",
      "metadata": {
        "id": "Y2wyIRpw3RRm",
        "colab": {
          "base_uri": "https://localhost:8080/",
          "height": 34
        },
        "outputId": "388e585e-695d-4082-b887-e83288861083"
      },
      "source": [
        "from google.colab import files\n",
        "import numpy as np\n",
        "from numpy import random\n",
        "import pandas as pd\n",
        "import matplotlib.pyplot as plt\n",
        "%matplotlib inline\n",
        "from tensorflow.keras import utils\n",
        "\n",
        "from tensorflow.keras.models import Sequential\n",
        "from tensorflow.keras.layers import Dense, Dropout, SpatialDropout1D, BatchNormalization, Embedding, Flatten, Activation, SimpleRNN\n",
        "from tensorflow.python.keras.optimizers import Adam, RMSprop\n",
        "\n",
        "from keras.preprocessing.text import Tokenizer, text_to_word_sequence\n",
        "from sklearn.model_selection import train_test_split"
      ],
      "execution_count": null,
      "outputs": [
        {
          "output_type": "stream",
          "text": [
            "Using TensorFlow backend.\n"
          ],
          "name": "stderr"
        }
      ]
    },
    {
      "cell_type": "markdown",
      "metadata": {
        "id": "kvf0nodwLuKJ"
      },
      "source": [
        "#Предобработка данных"
      ]
    },
    {
      "cell_type": "code",
      "metadata": {
        "id": "HxmTzbq3TmJW"
      },
      "source": [
        "# Токенизатор из библиотеки Keras\n",
        "\n",
        "tokenizer = Tokenizer(num_words=20000, filters='!\"#$%&()*+,-./:;,<=>?@[\\\\]^_`{|}~\\t\\n0123456789', lower=True, split=' ', char_level=False)\n",
        "\n",
        "# Метод обрабатывает тексты и собирает словарь\n",
        "\n",
        "tokenizer.fit_on_texts(train)\n",
        "\n",
        "# Частотные индексы (ранги слов по частоте встречаемости)\n",
        "\n",
        "items = list(tokenizer.word_index.items())"
      ],
      "execution_count": null,
      "outputs": []
    },
    {
      "cell_type": "markdown",
      "metadata": {
        "id": "7bqkBm_VMOys"
      },
      "source": [
        "```\r\n",
        "Образец словаря \r\n",
        "\r\n",
        "[('днем', 1001), ('живут', 1002), ('одновременно', 1003), ('новые', 1004), ('вернулся', 1005), ('решение', 1006), ('действия', 1007), \r\n",
        "('сделали', 1008), ('зато', 1009), ('человеку', 1010), ('телефона', 1011), ('путь', 1012), ('найден', 1013), ('кровати', 1014), \r\n",
        "('честно', 1015), ('больно', 1016), ('ж', 1017), ('буквально', 1018), ('сознания', 1019), ('пропал', 1020), ('плиз', 1021), \r\n",
        "('идёт', 1022), ('полу', 1023), ('видели', 1024), ('знакомых', 1025), ('ходит', 1026), ('получить', 1027), ('знать', 1028), \r\n",
        "('ушла', 1029), ('iz', 1030), ('ук', 1031), ('nкто', 1032), ('сильнее', 1033), ('нашу', 1034), ('полный', 1035), ('нашёл', 1036), \r\n",
        "('разных', 1037), ('узнал', 1038), ('бесплатно', 1039), ('комнаты', 1040), ('поехали', 1041),  ('памяти', 1042), ('забыл', 1043), \r\n",
        "('ощущения', 1044), ('могли', 1045), ('думала', 1046), ('nтак', 1047), ('конца', 1048), ('количество', 1049), ('большая', 1050), \r\n",
        "('source', 1051), ('предложил', 1052), ('сходить', 1053), ('звоните', 1054), ('уйти', 1055), ('км', 1056), ('пришли', 1057)]\r\n",
        "\r\n",
        "Размер словаря - 137802 слов\r\n",
        "```\r\n",
        "\r\n"
      ]
    },
    {
      "cell_type": "code",
      "metadata": {
        "id": "oAbeKuj8XvOV"
      },
      "source": [
        "# Тексты приводятся к виду последовательностей чисел\n",
        "# в соответствии с индексами обучающего словаря\n",
        "\n",
        "trainIdx = tokenizer.texts_to_sequences(train)\n",
        "testIdx = tokenizer.texts_to_sequences(test)"
      ],
      "execution_count": null,
      "outputs": []
    },
    {
      "cell_type": "markdown",
      "metadata": {
        "id": "SF7X4JKYOIS5"
      },
      "source": [
        "#Обучение модели"
      ]
    },
    {
      "cell_type": "code",
      "metadata": {
        "id": "stwZbQWT6pA4",
        "colab": {
          "base_uri": "https://localhost:8080/",
          "height": 959
        },
        "outputId": "ebbe33e4-589d-4625-a01c-a979a717a173"
      },
      "source": [
        "# Архитектура сверточной нейросети\n",
        "# Модель, основанная на Bag-of-Words\n",
        "\n",
        "model = Sequential()\n",
        "model.add(BatchNormalization())\n",
        "model.add(Dense(200, input_dim=maxWordsCount, activation='relu'))\n",
        "model.add(Dropout(0.5))\n",
        "model.add(BatchNormalization())\n",
        "model.add(Dense(2, activation='softmax'))\n",
        "\n",
        "model.compile(optimizer='adam',\n",
        "                loss='categorical_crossentropy',\n",
        "                metrics=['accuracy', precision, recall])\n",
        "\n",
        "history = model.fit(xTrain01,\n",
        "                      yTrain,\n",
        "                      epochs=20,\n",
        "                      batch_size=200,\n",
        "                      validation_data=(xTest01, yTest))\n",
        "                      callbacks=[checkpoint])\n",
        "\n",
        "plt.plot(history.history['accuracy'],\n",
        "         label='Доля верных ответов на обучающей выборке')\n",
        "plt.plot(history.history['val_accuracy'],\n",
        "         label='Доля верных ответов на тестовой выборке')\n",
        "plt.xlabel('Эпоха обучения')\n",
        "plt.ylabel('Доля верных ответов')\n",
        "plt.legend()\n",
        "plt.show()"
      ],
      "execution_count": null,
      "outputs": [
        {
          "output_type": "stream",
          "text": [
            "Epoch 1/20\n",
            "123/123 [==============================] - 20s 167ms/step - loss: 0.2404 - accuracy: 0.9031 - precision: 0.7645 - recall: 0.8252 - val_loss: 0.3866 - val_accuracy: 0.7982 - val_precision: 0.8618 - val_recall: 0.9157\n",
            "Epoch 2/20\n",
            "123/123 [==============================] - 20s 163ms/step - loss: 0.0394 - accuracy: 0.9888 - precision: 0.9057 - recall: 0.9394 - val_loss: 0.2662 - val_accuracy: 0.8779 - val_precision: 0.9269 - val_recall: 0.9551\n",
            "Epoch 3/20\n",
            "123/123 [==============================] - 20s 163ms/step - loss: 0.0097 - accuracy: 0.9983 - precision: 0.9424 - recall: 0.9631 - val_loss: 0.1078 - val_accuracy: 0.9563 - val_precision: 0.9514 - val_recall: 0.9696\n",
            "Epoch 4/20\n",
            "123/123 [==============================] - 20s 163ms/step - loss: 0.0037 - accuracy: 0.9996 - precision: 0.9591 - recall: 0.9735 - val_loss: 0.1324 - val_accuracy: 0.9486 - val_precision: 0.9638 - val_recall: 0.9770\n",
            "Epoch 5/20\n",
            "123/123 [==============================] - 20s 165ms/step - loss: 0.0020 - accuracy: 0.9999 - precision: 0.9683 - recall: 0.9794 - val_loss: 0.1177 - val_accuracy: 0.9631 - val_precision: 0.9712 - val_recall: 0.9815\n",
            "Epoch 6/20\n",
            "123/123 [==============================] - 20s 166ms/step - loss: 0.0012 - accuracy: 0.9999 - precision: 0.9740 - recall: 0.9831 - val_loss: 0.1140 - val_accuracy: 0.9692 - val_precision: 0.9760 - val_recall: 0.9845\n",
            "Epoch 7/20\n",
            "123/123 [==============================] - 20s 166ms/step - loss: 8.9384e-04 - accuracy: 1.0000 - precision: 0.9780 - recall: 0.9856 - val_loss: 0.2260 - val_accuracy: 0.9503 - val_precision: 0.9794 - val_recall: 0.9867\n",
            "Epoch 8/20\n",
            "123/123 [==============================] - 20s 164ms/step - loss: 9.9508e-04 - accuracy: 0.9999 - precision: 0.9809 - recall: 0.9875 - val_loss: 0.1665 - val_accuracy: 0.9616 - val_precision: 0.9819 - val_recall: 0.9883\n",
            "Epoch 9/20\n",
            "123/123 [==============================] - 20s 162ms/step - loss: 5.7252e-04 - accuracy: 1.0000 - precision: 0.9831 - recall: 0.9889 - val_loss: 0.1681 - val_accuracy: 0.9649 - val_precision: 0.9839 - val_recall: 0.9895\n",
            "Epoch 10/20\n",
            "123/123 [==============================] - 20s 162ms/step - loss: 4.2055e-04 - accuracy: 1.0000 - precision: 0.9848 - recall: 0.9900 - val_loss: 0.1645 - val_accuracy: 0.9662 - val_precision: 0.9855 - val_recall: 0.9905\n",
            "Epoch 11/20\n",
            "123/123 [==============================] - 20s 161ms/step - loss: 6.1505e-04 - accuracy: 1.0000 - precision: 0.9862 - recall: 0.9909 - val_loss: 0.2540 - val_accuracy: 0.9524 - val_precision: 0.9868 - val_recall: 0.9913\n",
            "Epoch 12/20\n",
            "123/123 [==============================] - 20s 161ms/step - loss: 4.6990e-04 - accuracy: 1.0000 - precision: 0.9874 - recall: 0.9917 - val_loss: 0.2848 - val_accuracy: 0.9495 - val_precision: 0.9878 - val_recall: 0.9920\n",
            "Epoch 13/20\n",
            "123/123 [==============================] - 20s 161ms/step - loss: 3.8630e-04 - accuracy: 1.0000 - precision: 0.9884 - recall: 0.9923 - val_loss: 0.4002 - val_accuracy: 0.9357 - val_precision: 0.9888 - val_recall: 0.9926\n",
            "Epoch 14/20\n",
            "123/123 [==============================] - 20s 161ms/step - loss: 0.0020 - accuracy: 0.9995 - precision: 0.9892 - recall: 0.9929 - val_loss: 0.1751 - val_accuracy: 0.9670 - val_precision: 0.9895 - val_recall: 0.9931\n",
            "Epoch 15/20\n",
            "123/123 [==============================] - 20s 166ms/step - loss: 0.0012 - accuracy: 0.9998 - precision: 0.9898 - recall: 0.9933 - val_loss: 0.2133 - val_accuracy: 0.9621 - val_precision: 0.9901 - val_recall: 0.9935\n",
            "Epoch 16/20\n",
            "123/123 [==============================] - 20s 163ms/step - loss: 8.0288e-04 - accuracy: 0.9999 - precision: 0.9905 - recall: 0.9937 - val_loss: 0.2684 - val_accuracy: 0.9537 - val_precision: 0.9907 - val_recall: 0.9939\n",
            "Epoch 17/20\n",
            "123/123 [==============================] - 20s 163ms/step - loss: 7.6482e-04 - accuracy: 0.9998 - precision: 0.9910 - recall: 0.9940 - val_loss: 0.2146 - val_accuracy: 0.9623 - val_precision: 0.9912 - val_recall: 0.9942\n",
            "Epoch 18/20\n",
            "123/123 [==============================] - 20s 162ms/step - loss: 7.9947e-04 - accuracy: 0.9999 - precision: 0.9914 - recall: 0.9943 - val_loss: 0.2025 - val_accuracy: 0.9644 - val_precision: 0.9916 - val_recall: 0.9945\n",
            "Epoch 19/20\n",
            "123/123 [==============================] - 20s 164ms/step - loss: 0.0024 - accuracy: 0.9995 - precision: 0.9918 - recall: 0.9946 - val_loss: 0.1459 - val_accuracy: 0.9694 - val_precision: 0.9918 - val_recall: 0.9946\n",
            "Epoch 20/20\n",
            "123/123 [==============================] - 20s 163ms/step - loss: 0.0036 - accuracy: 0.9991 - precision: 0.9920 - recall: 0.9947 - val_loss: 0.6642 - val_accuracy: 0.9122 - val_precision: 0.9921 - val_recall: 0.9948\n"
          ],
          "name": "stdout"
        },
        {
          "output_type": "display_data",
          "data": {
            "image/png": "[encoded data removed]",
            "text/plain": [
              "<Figure size 432x288 with 1 Axes>"
            ]
          },
          "metadata": {
            "tags": [],
            "needs_background": "light"
          }
        }
      ]
    },
    {
      "cell_type": "code",
      "metadata": {
        "id": "sjfKM7iVk3aj",
        "colab": {
          "base_uri": "https://localhost:8080/",
          "height": 1000
        },
        "outputId": "7b9f4922-172d-4c99-b75a-c70e92fc36f5"
      },
      "source": [
        "# Модель c Embedding-слоем \n",
        "\n",
        "modelE = Sequential()\n",
        "modelE.add(Embedding(maxWordsCount, 30, input_length=xLen)) #30-мерное пространство\n",
        "modelE.add(SpatialDropout1D(0.25))\n",
        "modelE.add(Flatten())\n",
        "modelE.add(BatchNormalization())\n",
        "modelE.add(Dense(200, activation='relu'))\n",
        "modelE.add(Dropout(0.25))\n",
        "modelE.add(BatchNormalization())\n",
        "modelE.add(Dense(2, activation='softmax'))\n",
        "\n",
        "modelE.compile(optimizer='adam',\n",
        "                loss='categorical_crossentropy',\n",
        "                metrics=['accuracy', precision, recall])\n",
        "\n",
        "history = modelE.fit(xTrain,\n",
        "                      yTrain,\n",
        "                      epochs=20,\n",
        "                      batch_size=200,\n",
        "                      validation_data=(xTest, yTest))\n",
        "\n",
        "plt.plot(history.history['accuracy'],\n",
        "         label='Доля верных ответов на обучающей выборке')\n",
        "plt.plot(history.history['val_accuracy'],\n",
        "         label='Доля верных ответов на тестовой выборке')\n",
        "plt.xlabel('Эпоха обучения')\n",
        "plt.ylabel('Доля верных ответов')\n",
        "plt.legend()\n",
        "plt.show()"
      ],
      "execution_count": null,
      "outputs": [
        {
          "output_type": "stream",
          "text": [
            "Epoch 1/20\n",
            "123/123 [==============================] - 3s 27ms/step - loss: 0.5013 - accuracy: 0.7758 - precision: 0.9502 - recall: 0.9679 - val_loss: 0.6156 - val_accuracy: 0.5370 - val_precision: 0.9495 - val_recall: 0.9674\n",
            "Epoch 2/20\n",
            "123/123 [==============================] - 3s 25ms/step - loss: 0.1100 - accuracy: 0.9588 - precision: 0.9495 - recall: 0.9674 - val_loss: 0.6683 - val_accuracy: 0.5545 - val_precision: 0.9495 - val_recall: 0.9675\n",
            "Epoch 3/20\n",
            "123/123 [==============================] - 3s 25ms/step - loss: 0.0392 - accuracy: 0.9874 - precision: 0.9496 - recall: 0.9676 - val_loss: 0.5053 - val_accuracy: 0.7229 - val_precision: 0.9498 - val_recall: 0.9677\n",
            "Epoch 4/20\n",
            "123/123 [==============================] - 3s 25ms/step - loss: 0.0188 - accuracy: 0.9938 - precision: 0.9500 - recall: 0.9678 - val_loss: 0.2576 - val_accuracy: 0.8922 - val_precision: 0.9502 - val_recall: 0.9680\n",
            "Epoch 5/20\n",
            "123/123 [==============================] - 3s 25ms/step - loss: 0.0101 - accuracy: 0.9971 - precision: 0.9504 - recall: 0.9681 - val_loss: 0.2006 - val_accuracy: 0.9285 - val_precision: 0.9506 - val_recall: 0.9683\n",
            "Epoch 6/20\n",
            "123/123 [==============================] - 3s 25ms/step - loss: 0.0067 - accuracy: 0.9987 - precision: 0.9509 - recall: 0.9684 - val_loss: 0.1487 - val_accuracy: 0.9527 - val_precision: 0.9511 - val_recall: 0.9686\n",
            "Epoch 7/20\n",
            "123/123 [==============================] - 3s 25ms/step - loss: 0.0055 - accuracy: 0.9987 - precision: 0.9513 - recall: 0.9687 - val_loss: 0.1655 - val_accuracy: 0.9534 - val_precision: 0.9515 - val_recall: 0.9688\n",
            "Epoch 8/20\n",
            "123/123 [==============================] - 3s 25ms/step - loss: 0.0045 - accuracy: 0.9987 - precision: 0.9518 - recall: 0.9690 - val_loss: 0.1433 - val_accuracy: 0.9588 - val_precision: 0.9519 - val_recall: 0.9691\n",
            "Epoch 9/20\n",
            "123/123 [==============================] - 3s 25ms/step - loss: 0.0047 - accuracy: 0.9987 - precision: 0.9522 - recall: 0.9692 - val_loss: 0.1734 - val_accuracy: 0.9555 - val_precision: 0.9524 - val_recall: 0.9694\n",
            "Epoch 10/20\n",
            "123/123 [==============================] - 3s 25ms/step - loss: 0.0047 - accuracy: 0.9986 - precision: 0.9526 - recall: 0.9695 - val_loss: 0.1723 - val_accuracy: 0.9549 - val_precision: 0.9528 - val_recall: 0.9696\n",
            "Epoch 11/20\n",
            "123/123 [==============================] - 3s 25ms/step - loss: 0.0029 - accuracy: 0.9992 - precision: 0.9530 - recall: 0.9697 - val_loss: 0.1689 - val_accuracy: 0.9568 - val_precision: 0.9532 - val_recall: 0.9699\n",
            "Epoch 12/20\n",
            "123/123 [==============================] - 3s 25ms/step - loss: 0.0029 - accuracy: 0.9991 - precision: 0.9534 - recall: 0.9700 - val_loss: 0.1720 - val_accuracy: 0.9558 - val_precision: 0.9536 - val_recall: 0.9701\n",
            "Epoch 13/20\n",
            "123/123 [==============================] - 3s 25ms/step - loss: 0.0032 - accuracy: 0.9991 - precision: 0.9538 - recall: 0.9702 - val_loss: 0.2121 - val_accuracy: 0.9497 - val_precision: 0.9540 - val_recall: 0.9704\n",
            "Epoch 14/20\n",
            "123/123 [==============================] - 3s 25ms/step - loss: 0.0032 - accuracy: 0.9990 - precision: 0.9542 - recall: 0.9705 - val_loss: 0.1999 - val_accuracy: 0.9549 - val_precision: 0.9544 - val_recall: 0.9706\n",
            "Epoch 15/20\n",
            "123/123 [==============================] - 3s 25ms/step - loss: 0.0036 - accuracy: 0.9987 - precision: 0.9546 - recall: 0.9707 - val_loss: 0.2090 - val_accuracy: 0.9547 - val_precision: 0.9548 - val_recall: 0.9708\n",
            "Epoch 16/20\n",
            "123/123 [==============================] - 3s 25ms/step - loss: 0.0033 - accuracy: 0.9989 - precision: 0.9550 - recall: 0.9710 - val_loss: 0.2101 - val_accuracy: 0.9549 - val_precision: 0.9551 - val_recall: 0.9711\n",
            "Epoch 17/20\n",
            "123/123 [==============================] - 3s 24ms/step - loss: 0.0043 - accuracy: 0.9984 - precision: 0.9553 - recall: 0.9712 - val_loss: 0.2468 - val_accuracy: 0.9495 - val_precision: 0.9555 - val_recall: 0.9713\n",
            "Epoch 18/20\n",
            "123/123 [==============================] - 3s 24ms/step - loss: 0.0048 - accuracy: 0.9983 - precision: 0.9557 - recall: 0.9714 - val_loss: 0.2460 - val_accuracy: 0.9521 - val_precision: 0.9559 - val_recall: 0.9715\n",
            "Epoch 19/20\n",
            "123/123 [==============================] - 3s 25ms/step - loss: 0.0055 - accuracy: 0.9981 - precision: 0.9561 - recall: 0.9716 - val_loss: 0.2271 - val_accuracy: 0.9506 - val_precision: 0.9562 - val_recall: 0.9717\n",
            "Epoch 20/20\n",
            "123/123 [==============================] - 3s 25ms/step - loss: 0.0079 - accuracy: 0.9972 - precision: 0.9564 - recall: 0.9718 - val_loss: 0.2339 - val_accuracy: 0.9506 - val_precision: 0.9565 - val_recall: 0.9719\n"
          ],
          "name": "stdout"
        },
        {
          "output_type": "display_data",
          "data": {
            "image/png": "[encoded data removed]",
            "text/plain": [
              "<Figure size 432x288 with 1 Axes>"
            ]
          },
          "metadata": {
            "tags": [],
            "needs_background": "light"
          }
        }
      ]
    }
  ]
}
